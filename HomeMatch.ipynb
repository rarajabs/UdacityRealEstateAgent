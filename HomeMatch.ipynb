{
 "cells": [
  {
   "cell_type": "markdown",
   "id": "a108af04",
   "metadata": {},
   "source": [
    "This is a starter notebook for the project, you'll have to import the libraries you'll need, you can find a list of the ones available in this workspace in the requirements.txt file in this workspace.\n"
   ]
  },
  {
   "cell_type": "markdown",
   "id": "1f83ec5b",
   "metadata": {},
   "source": [
    "Step 1: Setting Up the Python Application\n"
   ]
  },
  {
   "cell_type": "code",
   "execution_count": 74,
   "id": "6554fd4c",
   "metadata": {},
   "outputs": [],
   "source": [
    "from dotenv import load_dotenv\n",
    "from langchain.chat_models import ChatOpenAI\n",
    "from langchain.prompts import ChatPromptTemplate, PromptTemplate\n",
    "from langchain.output_parsers import StructuredOutputParser, ResponseSchema\n",
    "from langchain_community.document_loaders.csv_loader import CSVLoader\n",
    "from langchain.docstore.document import Document\n",
    "from langchain.vectorstores import Chroma\n",
    "from langchain.embeddings import OpenAIEmbeddings\n",
    "from langchain.chains import LLMChain\n",
    "import csv\n",
    "import json\n",
    "import pathlib\n",
    "import random\n",
    "import os\n",
    "\n",
    "load_dotenv()\n",
    "\n",
    "OPENAI_API_KEY = os.getenv(\"API_KEY\")\n",
    "OPENAI_API_BASE = os.getenv(\"API_BASE\")\n",
    "\n",
    "LISTING_PATH: os.PathLike = pathlib.Path(\"listings/listings.csv\").resolve()\n",
    "DB_DIR: os.PathLike = pathlib.Path(\"chroma_db\").resolve()\n",
    "DB_COLLECTION: str = \"real_estate_listings\"\n",
    "LLM_MODEL: str = \"gpt-4o-mini\"\n",
    "EMBEDDINGS: OpenAIEmbeddings = OpenAIEmbeddings(model=\"text-embedding-ada-002\")\n"
   ]
  },
  {
   "cell_type": "markdown",
   "id": "12387ed4",
   "metadata": {},
   "source": [
    "Step 2: Generating Real Estate Listings\n"
   ]
  },
  {
   "cell_type": "code",
   "execution_count": null,
   "id": "3e9cbe23",
   "metadata": {},
   "outputs": [],
   "source": [
    "def prepare_listings(temperature: float = 0.7) -> None:\n",
    "    \"\"\"\n",
    "    Prepare the listings by LLM\n",
    "    \"\"\"\n",
    "\n",
    "    if LISTING_PATH.exists():\n",
    "        return\n",
    "\n",
    "    # 1. Set up the LLM\n",
    "    llm = ChatOpenAI(model_name=LLM_MODEL, temperature=temperature)\n",
    "\n",
    "    # 2. Define the schemas for the output\n",
    "    response_schemas = [\n",
    "        ResponseSchema(name=\"Neighborhood\", description=\"The name of the neighborhood\"),\n",
    "        ResponseSchema(name=\"Price\", description=\"The listing price, like '$800,000'\"),\n",
    "        ResponseSchema(name=\"Bedrooms\", description=\"Number of bedrooms\"),\n",
    "        ResponseSchema(name=\"Bathrooms\", description=\"Number of bathrooms\"),\n",
    "        ResponseSchema(\n",
    "            name=\"House Size\", description=\"Size of the house, like '2,500 sqft'\"\n",
    "        ),\n",
    "        ResponseSchema(name=\"Year Built\", description=\"Year the house was built\"),\n",
    "        ResponseSchema(\n",
    "            name=\"Lot Size\", description=\"Size of the land lot, like '5,000 sqft'\"\n",
    "        ),\n",
    "        ResponseSchema(\n",
    "            name=\"Description\", description=\"Detailed description of the house\"\n",
    "        ),\n",
    "        ResponseSchema(\n",
    "            name=\"Neighborhood Description\",\n",
    "            description=\"Detailed description of the neighborhood\",\n",
    "        ),\n",
    "    ]\n",
    "\n",
    "    # 3. Create the parser\n",
    "    parser = StructuredOutputParser.from_response_schemas(response_schemas)\n",
    "\n",
    "    # 4. Create the prompt\n",
    "    prompt = ChatPromptTemplate.from_messages(\n",
    "        [\n",
    "            (\"system\", \"You are a real estate agent assistant.\"),\n",
    "            (\n",
    "                \"human\",\n",
    "                \"Generate a real estate listing for a house located in {neighborhood}.\\n{format_instructions}\",\n",
    "            ),\n",
    "        ]\n",
    "    )\n",
    "\n",
    "    # 5. Neighborhoods to generate\n",
    "    neighborhoods = [\"Chelsea\", \"Midtown\", \"Greenpoint\", \"Williamsburg\", \"SoHo\"]\n",
    "    listings = []\n",
    "\n",
    "    # Generate listings for each neighborhood\n",
    "    for neighborhood in neighborhoods:\n",
    "        for _ in range(random.randint(2, 5)):\n",
    "            _prompt = prompt.format_messages(\n",
    "                neighborhood=neighborhood,\n",
    "                format_instructions=parser.get_format_instructions(),\n",
    "            )\n",
    "\n",
    "            # Generate the response\n",
    "            response = llm(_prompt)\n",
    "            print(f\"Response: {response}\")\n",
    "            parsed = parser.parse(response.content)\n",
    "            listings.append(parsed)\n",
    "\n",
    "    # 6. Save to CSV\n",
    "    fieldnames = [\n",
    "        \"Neighborhood\",\n",
    "        \"Price\",\n",
    "        \"Bedrooms\",\n",
    "        \"Bathrooms\",\n",
    "        \"House Size\",\n",
    "        \"Year Built\",\n",
    "        \"Lot Size\",\n",
    "        \"Description\",\n",
    "        \"Neighborhood Description\",\n",
    "    ]\n",
    "\n",
    "    # Create the directory if it doesn't exist\n",
    "    if not LISTING_PATH.parent.exists():\n",
    "        LISTING_PATH.parent.mkdir()\n",
    "\n",
    "    with open(LISTING_PATH, mode=\"w\", newline=\"\", encoding=\"utf-8\") as f:\n",
    "        writer = csv.DictWriter(f, fieldnames=fieldnames)\n",
    "        writer.writeheader()\n",
    "        for listing in listings:\n",
    "            writer.writerow(listing)\n"
   ]
  },
  {
   "cell_type": "code",
   "execution_count": null,
   "id": "f09f5711",
   "metadata": {},
   "outputs": [],
   "source": [
    "# Prepare the listings if not already done\n",
    "prepare_listings(temperature=0.8)"
   ]
  },
  {
   "cell_type": "markdown",
   "id": "bde91b6a",
   "metadata": {},
   "source": [
    "Step 3: Storing Listings in a Vector Database\n"
   ]
  },
  {
   "cell_type": "code",
   "execution_count": 4,
   "id": "9b5d0e4e",
   "metadata": {},
   "outputs": [],
   "source": [
    "def load_listings_from_csv(file_path: str | os.PathLike) -> list[Document]:\n",
    "    \"\"\"\n",
    "    Load listings from a CSV file and return a list of Document objects.\n",
    "    Args:\n",
    "        file_path (str | os.PathLike): Path to the CSV file.\n",
    "    Returns:\n",
    "        list: A list of Document objects containing the listings data.\n",
    "    \"\"\"\n",
    "    loader = CSVLoader(\n",
    "        file_path=file_path,\n",
    "        source_column=\"Neighborhood\",\n",
    "        metadata_columns=[\n",
    "            \"Neighborhood\",\n",
    "            \"Price\",\n",
    "            \"Bedrooms\",\n",
    "            \"Bathrooms\",\n",
    "            \"House Size\",\n",
    "            \"Year Built\",\n",
    "            \"Lot Size\",\n",
    "        ],\n",
    "    )\n",
    "\n",
    "    raw_data = loader.load()\n",
    "\n",
    "    documents = []\n",
    "    for item in raw_data:\n",
    "        documents.append(\n",
    "            Document(page_content=item.page_content, metadata=item.metadata)\n",
    "        )\n",
    "\n",
    "    return documents"
   ]
  },
  {
   "cell_type": "code",
   "execution_count": 5,
   "id": "1aa8cd9a",
   "metadata": {},
   "outputs": [
    {
     "name": "stdout",
     "output_type": "stream",
     "text": [
      "Creating a new ChromaDB in C:\\Users\\User\\Documents\\Doc\\Udacity Final Project\\chroma_db\n",
      "20\n"
     ]
    }
   ],
   "source": [
    "def add_documents_to_chromadb(documents: list[Document]) -> Chroma:\n",
    "    \"\"\"\n",
    "    Add documents to ChromaDB\n",
    "    Args:\n",
    "        documents (list[Document]): List of Document objects to add.\n",
    "    Returns:\n",
    "        Chroma: The ChromaDB instance with the added documents.\n",
    "    \"\"\"\n",
    "    # Create a new ChromaDB instance and add documents\n",
    "    chrome_client = Chroma.from_documents(\n",
    "        documents=documents,\n",
    "        embedding=EMBEDDINGS,\n",
    "        persist_directory=str(DB_DIR),\n",
    "        collection_name=DB_COLLECTION,\n",
    "    )\n",
    "    return chrome_client\n",
    "\n",
    "\n",
    "if DB_DIR.exists():\n",
    "    print(f\"load the existing ChromaDB in {DB_DIR}\")\n",
    "    # load the existing ChromaDB\n",
    "    chrome_client = Chroma(\n",
    "        persist_directory=str(DB_DIR),\n",
    "        embedding_function=EMBEDDINGS,\n",
    "        collection_name=DB_COLLECTION,\n",
    "    )\n",
    "\n",
    "    # Check if the collection is empty\n",
    "    if chrome_client._collection.count() == 0:\n",
    "        print(\"Collection is empty, adding documents...\")\n",
    "        # If the collection is empty, add the documents\n",
    "        add_documents_to_chromadb(load_listings_from_csv(LISTING_PATH))\n",
    "else:\n",
    "    print(f\"Creating a new ChromaDB in {DB_DIR}\")\n",
    "    # If the persist directory doesn't exist, create and initialize\n",
    "    chrome_client = add_documents_to_chromadb(load_listings_from_csv(LISTING_PATH))\n",
    "\n",
    "print(chrome_client._collection.count())\n",
    "\n",
    "\n",
    "# vectordb.delete_collection()\n"
   ]
  },
  {
   "cell_type": "code",
   "execution_count": 10,
   "id": "b442e5eb",
   "metadata": {},
   "outputs": [
    {
     "name": "stdout",
     "output_type": "stream",
     "text": [
      "Search results:\n",
      "Content: Description: This stunning modern home in Midtown boasts an open-concept layout featuring a spacious living room with large windows that flood the space with natural light. The gourmet kitchen is equipped with stainless steel appliances, granite countertops, and an island perfect for entertaining. The master suite includes a luxurious en-suite bathroom and a walk-in closet. Step outside to a beautifully landscaped backyard, complete with a patio for outdoor dining and relaxation.\n",
      "Neighborhood Description: Midtown is a vibrant and sought-after neighborhood known for its eclectic mix of dining, shopping, and cultural attractions. Residents enjoy tree-lined streets, parks, and a strong sense of community. With convenient access to public transportation and major highways, Midtown offers the perfect blend of urban convenience and suburban comfort, making it an ideal place to call home.\n",
      "Metadata: {'Bathrooms': '3.5', 'Bedrooms': '4', 'House Size': '3,200 sqft', 'Lot Size': '6,000 sqft', 'Neighborhood': 'Midtown', 'Price': '$1,200,000', 'Year Built': '2015', 'row': 6, 'source': 'Midtown'}\n",
      "--------------------\n",
      "Content: Description: This stunning modern townhouse in Chelsea features an open-concept living space with floor-to-ceiling windows that flood the home with natural light. The gourmet kitchen is equipped with stainless steel appliances, quartz countertops, and a breakfast bar. The spacious master suite includes an en-suite bathroom with dual vanities and a walk-in shower. Enjoy outdoor living with a private backyard and a terrace perfect for entertaining.\n",
      "Neighborhood Description: Chelsea is a vibrant neighborhood known for its art galleries, trendy boutiques, and a diverse culinary scene. Located near the Hudson River, residents enjoy beautiful waterfront parks, convenient access to public transportation, and a rich cultural life including the famous Chelsea Market and the High Line.\n",
      "Metadata: {'Bathrooms': '2.5', 'Bedrooms': '3', 'House Size': '1,800 sqft', 'Lot Size': '2,500 sqft', 'Neighborhood': 'Chelsea', 'Price': '$1,250,000', 'Year Built': '2015', 'row': 0, 'source': 'Chelsea'}\n",
      "--------------------\n",
      "[Document(page_content='Description: This stunning modern home in Midtown boasts an open-concept layout featuring a spacious living room with large windows that flood the space with natural light. The gourmet kitchen is equipped with stainless steel appliances, granite countertops, and an island perfect for entertaining. The master suite includes a luxurious en-suite bathroom and a walk-in closet. Step outside to a beautifully landscaped backyard, complete with a patio for outdoor dining and relaxation.\\nNeighborhood Description: Midtown is a vibrant and sought-after neighborhood known for its eclectic mix of dining, shopping, and cultural attractions. Residents enjoy tree-lined streets, parks, and a strong sense of community. With convenient access to public transportation and major highways, Midtown offers the perfect blend of urban convenience and suburban comfort, making it an ideal place to call home.', metadata={'Bathrooms': '3.5', 'Bedrooms': '4', 'House Size': '3,200 sqft', 'Lot Size': '6,000 sqft', 'Neighborhood': 'Midtown', 'Price': '$1,200,000', 'Year Built': '2015', 'row': 6, 'source': 'Midtown'}), Document(page_content='Description: This stunning modern townhouse in Chelsea features an open-concept living space with floor-to-ceiling windows that flood the home with natural light. The gourmet kitchen is equipped with stainless steel appliances, quartz countertops, and a breakfast bar. The spacious master suite includes an en-suite bathroom with dual vanities and a walk-in shower. Enjoy outdoor living with a private backyard and a terrace perfect for entertaining.\\nNeighborhood Description: Chelsea is a vibrant neighborhood known for its art galleries, trendy boutiques, and a diverse culinary scene. Located near the Hudson River, residents enjoy beautiful waterfront parks, convenient access to public transportation, and a rich cultural life including the famous Chelsea Market and the High Line.', metadata={'Bathrooms': '2.5', 'Bedrooms': '3', 'House Size': '1,800 sqft', 'Lot Size': '2,500 sqft', 'Neighborhood': 'Chelsea', 'Price': '$1,250,000', 'Year Built': '2015', 'row': 0, 'source': 'Chelsea'})]\n"
     ]
    }
   ],
   "source": [
    "# Perform a similarity search\n",
    "query = \"modern house with a gourmet kitchen in a lively area\"\n",
    "# query = \"eco-friendly house with solar panels\"\n",
    "results = chrome_client.similarity_search(\n",
    "    query, k=2\n",
    ")  # Retrieve the top 2 most similar documents\n",
    "\n",
    "print(\"Search results:\")\n",
    "for doc in results:\n",
    "    print(f\"Content: {doc.page_content}\")\n",
    "    print(f\"Metadata: {doc.metadata}\")\n",
    "    print(\"-\" * 20)\n",
    "\n",
    "print(results)"
   ]
  },
  {
   "cell_type": "code",
   "execution_count": 12,
   "id": "50e46fae",
   "metadata": {},
   "outputs": [
    {
     "name": "stdout",
     "output_type": "stream",
     "text": [
      "Search results from retriever:\n",
      "Content: Description: This stunning modern home in Midtown boasts an open-concept layout featuring a spacious living room with large windows that flood the space with natural light. The gourmet kitchen is equipped with stainless steel appliances, granite countertops, and an island perfect for entertaining. The master suite includes a luxurious en-suite bathroom and a walk-in closet. Step outside to a beautifully landscaped backyard, complete with a patio for outdoor dining and relaxation.\n",
      "Neighborhood Description: Midtown is a vibrant and sought-after neighborhood known for its eclectic mix of dining, shopping, and cultural attractions. Residents enjoy tree-lined streets, parks, and a strong sense of community. With convenient access to public transportation and major highways, Midtown offers the perfect blend of urban convenience and suburban comfort, making it an ideal place to call home.\n",
      "Metadata: {'Bathrooms': '3.5', 'Bedrooms': '4', 'House Size': '3,200 sqft', 'Lot Size': '6,000 sqft', 'Neighborhood': 'Midtown', 'Price': '$1,200,000', 'Year Built': '2015', 'row': 6, 'source': 'Midtown'}\n",
      "--------------------\n",
      "Content: Description: This stunning modern home in Williamsburg offers a perfect blend of comfort and style. With 3 spacious bedrooms and 2.5 bathrooms, the open-concept living area features high ceilings, large windows, and beautiful hardwood floors. The chef's kitchen boasts stainless steel appliances, quartz countertops, and a convenient island for entertaining. Step outside to the private backyard oasis, perfect for summer barbecues or relaxing evenings.\n",
      "Neighborhood Description: Williamsburg is a vibrant neighborhood known for its artistic flair, eclectic shops, and trendy restaurants. Enjoy the lively atmosphere with nearby parks, cultural events, and easy access to public transportation. This area is perfect for those looking to experience the dynamic lifestyle of Brooklyn while still being close to Manhattan.\n",
      "Metadata: {'Bathrooms': '2.5', 'Bedrooms': '3', 'House Size': '1,800 sqft', 'Lot Size': '3,000 sqft', 'Neighborhood': 'Williamsburg', 'Price': '$1,200,000', 'Year Built': '2015', 'row': 10, 'source': 'Williamsburg'}\n",
      "--------------------\n"
     ]
    }
   ],
   "source": [
    "retriever = chrome_client.as_retriever(search_type=\"mmr\", search_kwargs={\"k\": 2})\n",
    "results_retriever = retriever.invoke(query)\n",
    "\n",
    "print(\"Search results from retriever:\")\n",
    "for doc in results_retriever:\n",
    "    print(f\"Content: {doc.page_content}\")\n",
    "    print(f\"Metadata: {doc.metadata}\")\n",
    "    print(\"-\" * 20)"
   ]
  },
  {
   "cell_type": "markdown",
   "id": "deafa08c",
   "metadata": {},
   "source": [
    "Step 4: Building the User Preference Interface\n"
   ]
  },
  {
   "cell_type": "markdown",
   "id": "d73d67fd",
   "metadata": {},
   "source": [
    "Collect buyer preferences, such as the number of bedrooms, bathrooms, location, and other specific requirements from a set of questions or telling the buyer to enter their preferences in natural language. You can hard-code the buyer preferences in questions and answers, or collect them interactively however you'd like, example:\n",
    "\n",
    "questions = [\n",
    "\"How big do you want your house to be?\"\n",
    "\"What are 3 most important things for you in choosing this property?\",\n",
    "\"Which amenities would you like?\",\n",
    "\"Which transportation options are important to you?\",\n",
    "\"How urban do you want your neighborhood to be?\",\n",
    "]\n",
    "\n",
    "answers = [\n",
    "\"A comfortable three-bedroom house with a spacious kitchen and a cozy living room.\",\n",
    "\"A quiet neighborhood, good local schools, and convenient shopping options.\",\n",
    "\"A backyard for gardening, a two-car garage, and a modern, energy-efficient heating system.\",\n",
    "\"Easy access to a reliable bus line, proximity to a major highway, and bike-friendly roads.\",\n",
    "\"A balance between suburban tranquility and access to urban amenities like restaurants and theaters.\"\n",
    "]\n"
   ]
  },
  {
   "cell_type": "code",
   "execution_count": 65,
   "id": "3cd248ef",
   "metadata": {},
   "outputs": [],
   "source": [
    "# Define the questions and possible answers\n",
    "\n",
    "questions = [\n",
    "    \"How many bedrooms and bathrooms would you like?\",\n",
    "    \"What size home are you comfortable with?\",\n",
    "    \"Which features are must-haves in your home?\",\n",
    "    \"What kind of neighborhood do you prefer?\",\n",
    "    \"How do you usually commute, and what transportation matters to you?\",\n",
    "]\n",
    "\n",
    "possible_answers = [\n",
    "    \"I'd like at least 3 bedrooms and 2 bathrooms to accommodate my family.\",\n",
    "    \"Around 2,000 square feet would be perfect — not too big but still roomy enough.\",\n",
    "    \"A modern kitchen, energy-efficient appliances, a backyard for the kids, and a two-car garage are must-haves.\",\n",
    "    \"I prefer a quiet, suburban neighborhood with tree-lined streets and good schools nearby.\",\n",
    "    \"I usually drive to work, but I'd love to have nearby public transportation and bike-friendly roads as backup.\",\n",
    "]\n",
    "\n",
    "answers = []\n",
    "for index, q in enumerate(questions):\n",
    "    # Simulate user input for demonstration purposes\n",
    "    user_input = possible_answers[index]\n",
    "    # user_input = input(\"You: \")\n",
    "    answers.append(f\"{q} {user_input}\")\n"
   ]
  },
  {
   "cell_type": "code",
   "execution_count": 66,
   "id": "661d1d3d",
   "metadata": {},
   "outputs": [
    {
     "name": "stdout",
     "output_type": "stream",
     "text": [
      "Extracted Preferences:\n",
      "```json\n",
      "{\n",
      "  \"bedrooms\": 3,\n",
      "  \"bathrooms\": 2,\n",
      "  \"house_size\": \"around 2,000 square feet\",\n",
      "  \"features\": [\n",
      "    \"modern kitchen\",\n",
      "    \"energy-efficient appliances\",\n",
      "    \"backyard for kids\",\n",
      "    \"two-car garage\"\n",
      "  ],\n",
      "  \"neighborhood_type\": \"suburban\",\n",
      "  \"transport\": [\n",
      "    \"driving\",\n",
      "    \"nearby public transportation\",\n",
      "    \"bike-friendly roads\"\n",
      "  ],\n",
      "  \"amenities\": [\n",
      "    \"good schools\"\n",
      "  ]\n",
      "}\n",
      "```\n"
     ]
    }
   ],
   "source": [
    "# Define the prompt for summarizing the answers\n",
    "summary_prompt = PromptTemplate(\n",
    "    input_variables=[\"answers\"],\n",
    "    template=\"\"\"\n",
    "You are a helpful real estate assistant. Based on the user's answers below, extract a JSON structure representing their real estate preferences.\n",
    "\n",
    "Answers:\n",
    "{answers}\n",
    "\n",
    "Respond in this format:\n",
    "{{\n",
    "  \"bedrooms\": int | null,\n",
    "  \"bathrooms\": int | null,\n",
    "  \"house_size\": \"range or description\",\n",
    "  \"features\": [list of important features],\n",
    "  \"neighborhood_type\": \"urban | suburban | rural | mixed\",\n",
    "  \"transport\": [list of transport options or keywords],\n",
    "  \"amenities\": [optional list like parks, gyms, schools]\n",
    "}}\n",
    "\"\"\",\n",
    ")\n",
    "\n",
    "\n",
    "llm = ChatOpenAI(model_name=LLM_MODEL, temperature=0.0)\n",
    "chain = LLMChain(llm=llm, prompt=summary_prompt)\n",
    "\n",
    "combined_answers = \"\\n\".join(answers)\n",
    "structured_output = chain.run(answers=combined_answers)\n",
    "\n",
    "print(\"Extracted Preferences:\")\n",
    "print(structured_output)\n"
   ]
  },
  {
   "cell_type": "markdown",
   "id": "4208a51c",
   "metadata": {},
   "source": [
    "Step 5: Searching Based on Preferences\n"
   ]
  },
  {
   "cell_type": "markdown",
   "id": "4667b807",
   "metadata": {},
   "source": [
    "- Semantic Search Implementation: Use the structured buyer preferences to perform a semantic search on the vector database, retrieving listings that most closely match the user's requirements.\n",
    "- Listing Retrieval Logic: Fine-tune the retrieval algorithm to ensure that the most relevant listings are selected based on the semantic closeness to the buyer’s preferences.\n"
   ]
  },
  {
   "cell_type": "code",
   "execution_count": 72,
   "id": "f35d380c",
   "metadata": {},
   "outputs": [],
   "source": [
    "def preferences_to_query_string(preferences: dict) -> str:\n",
    "    \"\"\"Turn structured preferences into a single semantic query string.\"\"\"\n",
    "    parts = []\n",
    "\n",
    "    if preferences.get(\"bedrooms\"):\n",
    "        parts.append(f\"{preferences['bedrooms']} bedrooms\")\n",
    "    if preferences.get(\"bathrooms\"):\n",
    "        parts.append(f\"{preferences['bathrooms']} bathrooms\")\n",
    "    if preferences.get(\"house_size\"):\n",
    "        parts.append(f\"house size: {preferences['house_size']}\")\n",
    "    if preferences.get(\"features\"):\n",
    "        parts.append(f\"features: {', '.join(preferences['features'])}\")\n",
    "    if preferences.get(\"neighborhood_type\"):\n",
    "        parts.append(f\"{preferences['neighborhood_type']} neighborhood\")\n",
    "    if preferences.get(\"transport\"):\n",
    "        parts.append(f\"transport: {', '.join(preferences['transport'])}\")\n",
    "    if preferences.get(\"amenities\"):\n",
    "        parts.append(f\"amenities: {', '.join(preferences['amenities'])}\")\n",
    "\n",
    "    return \". \".join(parts)\n",
    "\n",
    "\n",
    "def search_listings(preferences: dict, top_k: int = 5):\n",
    "    query_text = preferences_to_query_string(preferences)\n",
    "    results = chrome_client.similarity_search(query=query_text, k=top_k)\n",
    "    \n",
    "    return results\n",
    "\n",
    "\n",
    "def jsonify_output(text: str) -> dict:\n",
    "    \"\"\"Convert the structured output string to a JSON object.\"\"\"\n",
    "    try:\n",
    "        # Attempt to parse the structured output as JSON\n",
    "        cleaned_output = text.strip().removeprefix(\"```json\").removesuffix(\"```\")\n",
    "        return json.loads(cleaned_output)\n",
    "    except json.JSONDecodeError as e:\n",
    "        print(f\"Error decoding JSON: {e}\")\n",
    "        print(f\"Problematic string: '{cleaned_output}'\")"
   ]
  },
  {
   "cell_type": "code",
   "execution_count": null,
   "id": "d5841432",
   "metadata": {},
   "outputs": [
    {
     "name": "stdout",
     "output_type": "stream",
     "text": [
      "Search results based on user preferences:\n",
      "Content: Description: This beautifully designed 3-bedroom, 2.5-bathroom home features an open floor plan with modern finishes and ample natural light. The spacious kitchen boasts stainless steel appliances and quartz countertops, perfect for entertaining. The master suite includes a walk-in closet and an en-suite bathroom with double sinks. Enjoy the private backyard with a patio area, ideal for outdoor gatherings.\n",
      "Neighborhood Description: Midtown is a vibrant and trendy area known for its mix of residential homes, boutiques, and restaurants. With tree-lined streets and a strong sense of community, residents enjoy easy access to parks, cultural attractions, and public transportation. Midtown offers a dynamic lifestyle with a rich variety of entertainment options, making it a sought-after location for families and young professionals alike.\n",
      "Metadata: {'Bathrooms': '2.5', 'Bedrooms': '3', 'House Size': '2,000 sqft', 'Lot Size': '4,500 sqft', 'Neighborhood': 'Midtown', 'Price': '$850,000', 'Year Built': '2015', 'row': 7, 'source': 'Midtown'}\n",
      "--------------------\n",
      "Content: Description: This modern 3-bedroom, 2.5-bathroom home in the heart of Midtown features an open-concept layout with abundant natural light. The spacious kitchen boasts stainless steel appliances and a large island, perfect for entertaining. The master suite includes a walk-in closet and a luxurious ensuite bathroom. Enjoy outdoor living in the beautifully landscaped backyard with a patio for summer gatherings.\n",
      "Neighborhood Description: Midtown is a vibrant and diverse neighborhood known for its eclectic mix of restaurants, shops, and cultural attractions. Residents appreciate the walkability of the area, with parks and local markets just a stone's throw away. The Midtown community hosts various events throughout the year, making it a friendly and welcoming place to call home.\n",
      "Metadata: {'Bathrooms': '2.5', 'Bedrooms': '3', 'House Size': '2,200 sqft', 'Lot Size': '4,500 sqft', 'Neighborhood': 'Midtown', 'Price': '$850,000', 'Year Built': '2015', 'row': 4, 'source': 'Midtown'}\n",
      "--------------------\n"
     ]
    }
   ],
   "source": [
    "# Search for listings based on user preferences\n",
    "results = search_listings(jsonify_output(structured_output), top_k=2)\n",
    "print(\"Search results based on user preferences:\")\n",
    "for doc in results:\n",
    "    print(f\"Content: {doc.page_content}\")\n",
    "    print(f\"Metadata: {doc.metadata}\")\n",
    "    print(\"-\" * 20)"
   ]
  },
  {
   "cell_type": "markdown",
   "id": "811b0d73",
   "metadata": {},
   "source": [
    "Step 6: Personalizing Listing Descriptions\n"
   ]
  },
  {
   "cell_type": "markdown",
   "id": "cfd35218",
   "metadata": {},
   "source": [
    "- LLM Augmentation: For each retrieved listing, use the LLM to augment the description, tailoring it to resonate with the buyer’s specific preferences. This involves subtly emphasizing aspects of the property that align with what the buyer is looking for.\n",
    "- Maintaining Factual Integrity: Ensure that the augmentation process enhances the appeal of the listing without altering factual information.\n"
   ]
  },
  {
   "cell_type": "code",
   "execution_count": null,
   "id": "3ff2943b",
   "metadata": {},
   "outputs": [],
   "source": []
  },
  {
   "cell_type": "markdown",
   "id": "ec017504",
   "metadata": {},
   "source": [
    "Step 7: Deliverables and Testing\n"
   ]
  }
 ],
 "metadata": {
  "kernelspec": {
   "display_name": ".venv",
   "language": "python",
   "name": "python3"
  },
  "language_info": {
   "codemirror_mode": {
    "name": "ipython",
    "version": 3
   },
   "file_extension": ".py",
   "mimetype": "text/x-python",
   "name": "python",
   "nbconvert_exporter": "python",
   "pygments_lexer": "ipython3",
   "version": "3.10.11"
  }
 },
 "nbformat": 4,
 "nbformat_minor": 5
}
